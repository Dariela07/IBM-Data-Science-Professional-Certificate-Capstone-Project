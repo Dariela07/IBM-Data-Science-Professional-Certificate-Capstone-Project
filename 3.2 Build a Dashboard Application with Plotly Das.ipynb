{
    "cells": [
        {
            "cell_type": "markdown",
            "id": "25c0e9b8",
            "metadata": {},
            "source": "# Build a Dashboard Application with Plotly Dash"
        },
        {
            "cell_type": "code",
            "execution_count": null,
            "id": "5efd20c8",
            "metadata": {},
            "outputs": [],
            "source": "#pip install pandas dash\n#pip install wget\n#import wget\n#wget.download(\"https://cf-courses-data.s3.us.cloud-object-storage.appdomain.cloud/IBM-DS0321EN-SkillsNetwork/datasets/spacex_launch_dash.csv\")"
        },
        {
            "cell_type": "code",
            "execution_count": null,
            "id": "05805c12",
            "metadata": {},
            "outputs": [
                {
                    "name": "stdout",
                    "output_type": "stream",
                    "text": "Dash is running on http://127.0.0.1:8050/\n\n * Serving Flask app \"__main__\" (lazy loading)\n * Environment: production\n\u001b[31m   WARNING: This is a development server. Do not use it in a production deployment.\u001b[0m\n\u001b[2m   Use a production WSGI server instead.\u001b[0m\n * Debug mode: off\n"
                },
                {
                    "name": "stderr",
                    "output_type": "stream",
                    "text": " * Running on http://127.0.0.1:8050/ (Press CTRL+C to quit)\n127.0.0.1 - - [22/Dec/2021 18:06:29] \"\u001b[37mGET / HTTP/1.1\u001b[0m\" 200 -\n127.0.0.1 - - [22/Dec/2021 18:06:29] \"\u001b[37mGET /_dash-layout HTTP/1.1\u001b[0m\" 200 -\n127.0.0.1 - - [22/Dec/2021 18:06:29] \"\u001b[37mGET /_dash-dependencies HTTP/1.1\u001b[0m\" 200 -\n127.0.0.1 - - [22/Dec/2021 18:06:29] \"\u001b[37mGET /_dash-component-suites/dash/dcc/async-dropdown.js HTTP/1.1\u001b[0m\" 200 -\n127.0.0.1 - - [22/Dec/2021 18:06:29] \"\u001b[37mGET /_dash-component-suites/dash/dcc/async-graph.js HTTP/1.1\u001b[0m\" 200 -\n127.0.0.1 - - [22/Dec/2021 18:06:29] \"\u001b[37mGET /_dash-component-suites/dash/dcc/async-slider.js HTTP/1.1\u001b[0m\" 200 -\n127.0.0.1 - - [22/Dec/2021 18:06:29] \"\u001b[37mGET /_dash-component-suites/dash/dcc/async-plotlyjs.js HTTP/1.1\u001b[0m\" 200 -\n127.0.0.1 - - [22/Dec/2021 18:06:29] \"\u001b[37mPOST /_dash-update-component HTTP/1.1\u001b[0m\" 200 -\n127.0.0.1 - - [22/Dec/2021 18:06:29] \"\u001b[37mPOST /_dash-update-component HTTP/1.1\u001b[0m\" 200 -\n"
                }
            ],
            "source": "# Import required libraries\nimport pandas as pd\nimport dash\n#import dash_html_components as html\nfrom dash import html\n#import dash_core_components as dcc\nfrom dash import dcc\nfrom dash.dependencies import Input, Output\nimport plotly.express as px\n\n# Read the airline data into pandas dataframe\nspacex_df = pd.read_csv(\"spacex_launch_dash.csv\")\nmax_payload = spacex_df['Payload Mass (kg)'].max()\nmin_payload = spacex_df['Payload Mass (kg)'].min()\n\n# Create a dash application\napp = dash.Dash(__name__)\n\n# Create an app layout\napp.layout = html.Div(children=[html.H1('SpaceX Launch Records Dashboard',\n                                        style={'textAlign': 'center', 'color': '#503D36',\n                                               'font-size': 40}),\n                                # TASK 1: Add a dropdown list to enable Launch Site selection\n                                # The default select value is for ALL sites\n                                # dcc.Dropdown(id='site-dropdown',...)\n                                \n                                 \n                                dcc.Dropdown(id='site-dropdown',\n                                             options=[{'label': 'All Sites', 'value': 'ALL'},\n                                                      {'label': 'CCAFS LC-40', 'value': 'CCAFS LC-40'}, \n                                                      {'label': 'KSC LC-39A', 'value': 'KSC LC-39A'},\n                                                      {'label': 'VAFB SLC-4E', 'value': 'VAFB SLC-4E'},\n                                                      {'label': 'CCAFS SLC-40', 'value': 'CCAFS SLC-40'}\n                                                     ],\n                                             value='ALL',  # value attribute with default dropdown value to be ALL meaning all sites are selected\n                                             placeholder='Select a Launch Site here',  # placeholder attribute to show a text description about this input area\n                                             searchable=True  # so we can enter keywords to search launch sites\n                                            ),                  \n                                \n                                html.Br(),\n\n                                # TASK 2: Add a pie chart to show the total successful launches count for all sites\n                                # If a specific launch site was selected, show the Success vs. Failed counts for the site\n                                html.Div(dcc.Graph(id='success-pie-chart')),\n                                html.Br(),\n\n                                html.P(\"Payload range (Kg):\"),\n                                \n                                # TASK 3: Add a slider to select payload range\n                                #dcc.RangeSlider(id='payload-slider',...)\n                                dcc.RangeSlider(id='payload-slider',\n                                               min=0, max=10000, step=1000,\n                                               marks={0:'0', 2500:'2500', 5000:'5000', 7500:'7500', 10000:'10000'},\n                                               value=[min_payload,max_payload]\n                                               ),\n\n\n                                # TASK 4: Add a scatter chart to show the correlation between payload and launch success\n                                html.Div(dcc.Graph(id='success-payload-scatter-chart')),\n                                ])\n\n# TASK 2:\n# Add a callback function for `site-dropdown` as input, `success-pie-chart` as output\n@app.callback( Output(component_id='success-pie-chart', component_property='figure'),\n               Input(component_id='site-dropdown', component_property='value'),\n             )\ndef get_pie_chart(entered_site):\n    #if str(entered_site)=='All':\n    if entered_site == 'ALL':\n        data1=spacex_df[['Launch Site','class']].groupby('Launch Site').mean()\n        data1.reset_index(inplace=True)\n        data1.columns=['Launch Site', 'Everage Success Rate']\n        fig1=px.pie(data1, values='Everage Success Rate', names=\"Launch Site\", title=\"The Sucess Lauches by Site\")\n        # return dcc.Gragh(figure=fig1) \n        return fig1\n    else:\n        data2=spacex_df[spacex_df['Launch Site']== str(entered_site)]['class'].value_counts(normalize=True)\n        data2=pd.DataFrame(data2)\n        data2.reset_index(inplace=True)\n        fig2=px.pie(data2, values='class', names='index', title=f'Total Success Launches for Site {entered_site}')\n        #return dcc.Graph(figure=fig2)   \n        return fig2\n        \n\n# TASK 4:\n# Add a callback function for `site-dropdown` and `payload-slider` as inputs, `success-payload-scatter-chart` as output\n@app.callback(Output(component_id='success-payload-scatter-chart', component_property='figure'),\n              [Input(component_id='site-dropdown', component_property='value'), \n               Input(component_id='payload-slider', component_property='value')]\n              )\ndef get_scatter_plot(entered_site, payload_range):\n    low, high = payload_range\n    #low=list(payload_range)[0].astype('float')\n    #high=list(payload_range)[1].astype('float')\n    data3=spacex_df[(spacex_df['Payload Mass (kg)']> low) & (spacex_df['Payload Mass (kg)'].astype('float')<high)]\n    \n    if entered_site == 'ALL':       \n        fig3=px.scatter(data3, x='Payload Mass (kg)', y='class', title='Correlation between Payload and Success for all Sites', color=\"Booster Version Category\")\n        return fig3   \n    else:\n        #data4=spacex_df[spacex_df['Launch Site']==str(entered_site)][['Payload Mass (kg)', 'Booster Version Category', 'class']]\n        data4=data3[data3['Launch Site']==str(entered_site)][['Payload Mass (kg)', 'Booster Version Category', 'class']]\n        fig4=px.scatter(data4, x='Payload Mass (kg)', y='class', title=f'Correlation between Payload and Success for {entered_site}', color=\"Booster Version Category\")\n        return fig4\n# Run the app\nif __name__ == '__main__':\n    app.run_server()\n"
        }
    ],
    "metadata": {
        "kernelspec": {
            "display_name": "Python 3.8",
            "language": "python",
            "name": "python3"
        },
        "language_info": {
            "codemirror_mode": {
                "name": "ipython",
                "version": 3
            },
            "file_extension": ".py",
            "mimetype": "text/x-python",
            "name": "python",
            "nbconvert_exporter": "python",
            "pygments_lexer": "ipython3",
            "version": "3.8.12"
        }
    },
    "nbformat": 4,
    "nbformat_minor": 5
}